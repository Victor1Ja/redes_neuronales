{
 "cells": [
  {
   "cell_type": "markdown",
   "id": "31f5cad4",
   "metadata": {},
   "source": [
    "# Regresion Logistica con una Red Neuronal \n",
    "\n",
    "Bienvenidos al primer laboratorio, en el vamos a modelar una Regresion Logistica a travez de una red neurnal. Para ello, asumamos el siguiente problema: Dado un conjunto de datos :\n",
    "\n",
    "$$\\mathcal{D} = \\{X, Y\\} ~~~~~| ~~~x^{(i)} \\in \\mathcal{R}^{64\\times64}~~~,~~~ y^{(i)} \\in \\{0, 1\\}$$ \n",
    "\n",
    "Donde $x^{(i)}$ representa una imagen de 64 bits de alto y 64 bits de ancho e $y^{(i)}$ asume valor 1 si corresponde a una foto de un gato, y 0 en caso contrario.\n",
    "Debemos estimar para una imagen con estas dimensiones, si esta corresponde a un gato o no.\n",
    "\n",
    "Para comenzar debemos tener claro que tendremos a nuestra disposicion un conjunto de datos de entremaniento y un conjunto de datos de prueba, el de entrenamiento lo emplearemos para ajustar los parametros de la red nueronal de manera que alzance un nivel de generalizacion que permitan una vez terminado el entrenamiento, clasificar correctamente imagenes nuevas, es decir, las del conjunto de pueba.\n",
    "\n",
    "Carguemos los datos, asi como las librerias necesarias en nuestro código:"
   ]
  },
  {
   "cell_type": "code",
   "execution_count": 1,
   "id": "be52234b",
   "metadata": {},
   "outputs": [],
   "source": [
    "import numpy as np\n",
    "import matplotlib.pyplot as plt\n",
    "import h5py\n",
    "import scipy\n",
    "from PIL import Image\n",
    "from scipy import ndimage\n",
    "%matplotlib inline\n",
    "\n",
    "\n",
    "train_dataset = h5py.File('dataset/train_catvnoncat.h5', \"r\")\n",
    "train_set_x_orig = np.array(train_dataset[\"train_set_x\"][:]) # train set imagenes\n",
    "train_set_y = np.array(train_dataset[\"train_set_y\"][:]).reshape(train_set_x_orig.shape[0], 1) # train set etiquetas\n",
    "\n",
    "test_dataset = h5py.File('dataset/test_catvnoncat.h5', \"r\")\n",
    "test_set_x_orig = np.array(test_dataset[\"test_set_x\"][:]) # test set imagenes\n",
    "test_set_y = np.array(test_dataset[\"test_set_y\"][:]).reshape(test_set_x_orig.shape[0], 1) # test set etiquetas"
   ]
  },
  {
   "cell_type": "code",
   "execution_count": 2,
   "id": "1f67d91b",
   "metadata": {},
   "outputs": [
    {
     "name": "stdout",
     "output_type": "stream",
     "text": [
      "Imagenes de prueba: (50, 64, 64, 3)\n",
      "Imagenes de entrenamiento: (209, 64, 64, 3)\n",
      "Etiquetas de entrenamiento: (209, 1)\n"
     ]
    }
   ],
   "source": [
    "print('Imagenes de prueba:', test_set_x_orig.shape)\n",
    "print('Imagenes de entrenamiento:', train_set_x_orig.shape)\n",
    "print('Etiquetas de entrenamiento:', train_set_y.shape)"
   ]
  },
  {
   "cell_type": "markdown",
   "id": "b682b2e6",
   "metadata": {},
   "source": [
    "Como pueden ver en la celda anterior, cada uno de los arreglos que contienenen las imagenes esta compuesto por una primera dimencion que representa la cantidad de ejemplos, en este caso de imagenes, las segundas y terceras son la cantidad de pixeles de ancho y largo (64x64), y finalmente la ultima la cantidad de canales que tiene la imagen, en este caso son 3 *RGB*.\n",
    "\n",
    "Para las etiquetas simplemente tenemos por cada ejemplo un valor asociado que puede ser 0 o 1. \n",
    "\n",
    "Con el siguiente celda podemos visualizar una imagen del conjunto de datos de entrenamiento."
   ]
  },
  {
   "cell_type": "code",
   "execution_count": 3,
   "id": "f0285805",
   "metadata": {},
   "outputs": [
    {
     "name": "stdout",
     "output_type": "stream",
     "text": [
      "y = [1]\n"
     ]
    },
    {
     "data": {
      "image/png": "[encoded data removed]",
      "text/plain": [
       "<Figure size 432x288 with 1 Axes>"
      ]
     },
     "metadata": {
      "needs_background": "light"
     },
     "output_type": "display_data"
    }
   ],
   "source": [
    "\n",
    "index = 2\n",
    "plt.imshow(train_set_x_orig[index])\n",
    "print (f\"y = {train_set_y[index]}\")\n"
   ]
  },
  {
   "cell_type": "markdown",
   "id": "6f776ed8",
   "metadata": {},
   "source": [
    "\n",
    "En la clase vimos que, para la neurona de nuestra red, su activación estaba dada como:\n",
    "$$\\hat{y} = \\sigma{(W^{T}X + b)}$$\n",
    "\n",
    "En esta expresion $X, W \\in \\mathcal{R}^{n}$. Sin embargo para nuestro problema, tenemos como entrada un objeto bidimensional, es decir $x^{(i)} \\in \\mathcal{R}^{64\\times64}$, para solventar esta situacion, y adaptar los datos a nuestro modelo, emplearemos la funcion reshape asociada los arreglos numpy\n",
    "\n",
    "```python\n",
    "X_flatten = X.reshape(X.shape[0], -1)    \n",
    "```\n",
    " \n",
    "convirtiendo nuestra imagen en un vector unidimensional donde cada componente representa un pixel de la imagen de manera que cada fila esta dispuesta una a continuacion de la otra."
   ]
  },
  {
   "cell_type": "code",
   "execution_count": 4,
   "id": "1cf6c7e5",
   "metadata": {},
   "outputs": [
    {
     "name": "stdout",
     "output_type": "stream",
     "text": [
      "train_set_x_flatten shape: (209, 12288)\n",
      "train_set_y shape: (209, 1)\n",
      "test_set_x_flatten shape: (50, 12288)\n",
      "test_set_y shape: (50, 1)\n"
     ]
    }
   ],
   "source": [
    "### PROGRAME SU CODIGO AQUI ####\n",
    "\n",
    "train_set_x_flatten = train_set_x_orig.reshape(train_set_x_orig.shape[0],-1)\n",
    "test_set_x_flatten = test_set_x_orig.reshape(test_set_x_orig.shape[0],-1)\n",
    "\n",
    "### FIN DE SU CODIGO ####\n",
    "\n",
    "print (\"train_set_x_flatten shape: \" + str(train_set_x_flatten.shape))\n",
    "print (\"train_set_y shape: \" + str(train_set_y.shape))\n",
    "print (\"test_set_x_flatten shape: \" + str(test_set_x_flatten.shape))\n",
    "print (\"test_set_y shape: \" + str(test_set_y.shape))"
   ]
  },
  {
   "cell_type": "markdown",
   "id": "305f4314",
   "metadata": {},
   "source": [
    "**Salida Esperada**: \n",
    "\n",
    "<table style=\"width:35%\">\n",
    "  <tr>\n",
    "    <td>train_set_x_flatten shape</td>\n",
    "    <td> (209, 12288)</td> \n",
    "  </tr>\n",
    "  <tr>\n",
    "    <td>train_set_y shape</td>\n",
    "    <td>(209, 1)</td> \n",
    "  </tr>\n",
    "  <tr>\n",
    "    <td>test_set_x_flatten shape</td>\n",
    "    <td>(50, 12288)</td> \n",
    "  </tr>\n",
    "  <tr>\n",
    "    <td>test_set_y shape</td>\n",
    "    <td>(50, 1)</td> \n",
    "  </tr>\n",
    "</table>"
   ]
  },
  {
   "cell_type": "markdown",
   "id": "975640cc",
   "metadata": {},
   "source": [
    "Para representar imágenes en color, hay que especificar los canales rojo, verde y azul (RGB) para cada píxel, por lo que el valor del píxel es en realidad un vector de tres números que van de 0 a 255.\n",
    "\n",
    "Un paso común de preprocesamiento en el aprendizaje automático es centrar y estandarizar tu conjunto de datos, lo que significa que restas la media de todo el arreglo cada ejemplo, y luego divides cada ejemplo por la desviación estándar. Pero para los conjuntos de datos de imágenes, es más simple y más conveniente y funciona casi igual de bien simplemente dividir cada fila del conjunto de datos por 255 (el valor máximo de un canal de píxeles)."
   ]
  },
  {
   "cell_type": "code",
   "execution_count": 5,
   "id": "516c7329",
   "metadata": {},
   "outputs": [
    {
     "name": "stdout",
     "output_type": "stream",
     "text": [
      "[[0.06666667 0.12156863 0.21960784 ... 0.         0.         0.        ]\n",
      " [0.76862745 0.75294118 0.74509804 ... 0.32156863 0.31372549 0.31764706]\n",
      " [0.32156863 0.27843137 0.26666667 ... 0.54117647 0.55294118 0.55686275]\n",
      " ...\n",
      " [0.56078431 0.60784314 0.64705882 ... 0.33333333 0.41960784 0.58431373]\n",
      " [0.08627451 0.09411765 0.09019608 ... 0.01568627 0.01960784 0.        ]\n",
      " [0.03137255 0.10980392 0.20784314 ... 0.         0.         0.        ]]\n",
      "[[0.61960784 0.40784314 0.3254902  ... 0.67843137 0.50196078 0.43137255]\n",
      " [0.45098039 0.43137255 0.43529412 ... 0.67058824 0.69019608 0.72941176]\n",
      " [1.         0.99215686 0.99607843 ... 0.52156863 0.39607843 0.4745098 ]\n",
      " ...\n",
      " [0.16078431 0.18431373 0.32941176 ... 0.71764706 0.55294118 0.45490196]\n",
      " [0.07058824 0.07058824 0.0627451  ... 0.56470588 0.5372549  0.42352941]\n",
      " [0.52156863 0.63921569 0.29411765 ... 0.01960784 0.08627451 0.01960784]]\n"
     ]
    }
   ],
   "source": [
    "### PROGRAME AQUI ###\n",
    "train_set_x_flatten = train_set_x_flatten/255.0\n",
    "test_set_x_flatten = test_set_x_flatten/255.0\n",
    "### FIN DE SU CODIGO ###\n",
    "print(train_set_x_flatten)\n",
    "print(test_set_x_flatten)"
   ]
  },
  {
   "cell_type": "markdown",
   "id": "044d605c",
   "metadata": {},
   "source": [
    "\n",
    "### Hasta el momento que deber recordar:\n",
    "\n",
    "    \n",
    "Los pasos habituales para el preprocesamiento de un nuevo conjunto de datos son:\n",
    "\n",
    "- Averiguar las dimensiones y formas del problema (m_train, m_test, num_px, ...)\n",
    "- Reformar los conjuntos de datos de manera que cada ejemplo sea ahora un vector de tamaño (1, num_px \\* num_px \\* 3)\n",
    "- Estandarizar los datos"
   ]
  },
  {
   "cell_type": "markdown",
   "id": "434a93c2",
   "metadata": {},
   "source": [
    "## Arquitectura General\n",
    "\n",
    "\n",
    "Es hora de diseñar un algoritmo sencillo para distinguir las imágenes de gatos de las que no lo son..\n",
    "\n",
    "**Expresiones matematicas que debes tener en cuenta**:\n",
    "\n",
    "Para un ejemplo $x^{(i)}$, donde i representa el indice de dicho ejemplo:\n",
    "\n",
    "\n",
    "$$z^{(i)} = w^T x^{(i)} + b \\tag{1}$$\n",
    "$$\\hat{y}^{(i)} = a^{(i)} = sigmoid(z^{(i)})\\tag{2}$$ \n",
    "$$ \\mathcal{L}(a^{(i)}, y^{(i)}) =  - y^{(i)}  \\log(a^{(i)}) - (1-y^{(i)} )  \\log(1-a^{(i)})\\tag{3}$$\n",
    "\n",
    "\n",
    "El costo es calculado por la suma sobre el error o perdida de todos los ejemplos:\n",
    "\n",
    "$$ C = \\frac{1}{m} \\sum_{i=1}^m \\mathcal{L}(a^{(i)}, y^{(i)})\\tag{6}$$\n",
    "\n",
    "**Aspectos Claves**:\n",
    "    \n",
    "En este ejercicio, realizarás los siguientes pasos: \n",
    "\n",
    "- Inicializar los parámetros del modelo.\n",
    "- Aprender los parámetros del modelo minimizando el costo **C**.  \n",
    "- Utilizar los parámetros aprendidos para hacer predicciones (en el conjunto de pruebas).\n",
    "- Analizar los resultados y concluir\n",
    "\n",
    "\n",
    "Los principales pasos para construir una red neuronal son:\n",
    "\n",
    "1. Definir la estructura del modelo (como el número de características de entrada) \n",
    "2. Inicializar los parámetros del modelo\n",
    "3. Bucle:\n",
    "    - Calcular la pérdida de corriente (propagación hacia delante)\n",
    "    - Calcular el gradiente actual (propagación hacia atrás)\n",
    "    - Actualizar los parámetros (descenso de gradiente)\n"
   ]
  },
  {
   "cell_type": "markdown",
   "id": "93fffcce",
   "metadata": {},
   "source": [
    "**Ejercicio**: Implementa una funcion `sigmoid()`, que reciba como parametro un escalar o un arreglo numpy. Como has visto, necesitas calcular $sigmoide( w^T x + b) = \\frac{1}{1 + e^{-(w^T x + b)}}$ para hacer predicciones. Utilice \n",
    "```python\n",
    "np.exp()\n",
    "```"
   ]
  },
  {
   "cell_type": "code",
   "execution_count": 6,
   "id": "4a4f6a53",
   "metadata": {},
   "outputs": [],
   "source": [
    "def sigmoid(z):\n",
    "    \"\"\"\n",
    "    Return:\n",
    "    s -- sigmoid(z)\n",
    "    \"\"\"\n",
    "    \n",
    "    ### PONGA SU CODIGO AQUI ###\n",
    "    s = 1./(1+np.exp(-z))\n",
    "    ### FIN DE SU CODIGO\n",
    "    return s"
   ]
  },
  {
   "cell_type": "code",
   "execution_count": 7,
   "id": "2be30357",
   "metadata": {},
   "outputs": [
    {
     "name": "stdout",
     "output_type": "stream",
     "text": [
      "sigmoid([0, 2]) = [0.5        0.88079708]\n"
     ]
    }
   ],
   "source": [
    "print (\"sigmoid([0, 2]) = \" + str(sigmoid(np.array([0,2]))))"
   ]
  },
  {
   "cell_type": "markdown",
   "id": "4cd56d30",
   "metadata": {},
   "source": [
    "**Salida esperada**\n",
    "<table>\n",
    "  <tr>\n",
    "    <td>sigmoid([0, 2])</td>\n",
    "    <td> [ 0.5         0.88079708]</td> \n",
    "  </tr>\n",
    "</table>"
   ]
  },
  {
   "cell_type": "markdown",
   "id": "79a69374",
   "metadata": {},
   "source": [
    "### Initializing parameters\n",
    "\n",
    "**Ejercicio:** Implementa la inicialización de los parámetros en la celda de abajo. Tienes que inicializar w como un vector de ceros. Si no sabes qué función de numpy usar, busca np.zeros() en la documentación de la biblioteca Numpy.\n",
    "\n",
    "Aqui vamos a inicializar en 0, porque a pesar de que lo usual es inicializar random como quedamos en la conferencia, Nos evitaremos el no determinismo que acarrea ejecutar una celda varias veces, teninedo en cuenta que la funcion de coste es concava.\n",
    "\n",
    "**Lo que pasaba ayer que np.random.seed() no permitia obtener el mismo resultado cada vez, es que el kernel de python sobre el cual corre jupyter no para caundo se ejecuta una celda, si no que sigue ejecutandose, esto permite que podamos acceder a variables de una celda desde otra, por lo que correr x = np.random.randn() varias veces seria equivalente a generar tantos numeros aleatorios como las veces que corramos la celda. Puedes correr en un terminal si estas en linux la siguiente linea de comando tantas veces como quieras y en ese caso si obtendras el mismo resultado, ya que el codigo de python corre y luego se detiene:**\n",
    "\n",
    "```bash\n",
    "python -c 'import numpy as np; np.random.seed(3);print(np.random.randn())'\n",
    "```"
   ]
  },
  {
   "cell_type": "code",
   "execution_count": 8,
   "id": "5c05dc7b",
   "metadata": {},
   "outputs": [],
   "source": [
    "def initialize_with_zeros(dim):\n",
    "    \"\"\"\n",
    "    Esta funcion crea un vector de ceros de dimension (dim, 1) para w e inicializa b en 0.\n",
    "    \n",
    "    Argument:\n",
    "    dim -- el tamaño del vector w (o numero de parametros en nuestro caso, recuerden que w <w1,w2,w3>)\n",
    "    \n",
    "    Returns:\n",
    "    w -- un 0-vector de la forma (dim, 1)\n",
    "    b -- un escalar (correspondiente al termino de sesgo)\n",
    "    \"\"\"\n",
    "    \n",
    "    ### START CODE HERE ### (≈ 1 line of code)\n",
    "    w = np.zeros((dim,1))\n",
    "    b = 0\n",
    "    ### END CODE HERE ###\n",
    "\n",
    "    assert(w.shape == (dim, 1))\n",
    "    assert(isinstance(b, float) or isinstance(b, int))\n",
    "    \n",
    "    return w, b"
   ]
  },
  {
   "cell_type": "code",
   "execution_count": 9,
   "id": "fb8f813b",
   "metadata": {},
   "outputs": [
    {
     "name": "stdout",
     "output_type": "stream",
     "text": [
      "w = [[0.]\n",
      " [0.]]\n",
      "b = 0\n"
     ]
    }
   ],
   "source": [
    "dim = 2\n",
    "w, b = initialize_with_zeros(dim)\n",
    "print (\"w = \" + str(w))\n",
    "print (\"b = \" + str(b))"
   ]
  },
  {
   "cell_type": "markdown",
   "id": "be18f4df",
   "metadata": {},
   "source": [
    "**Salida Esperada**: \n",
    "​\n",
    "​\n",
    "<table style=\"width:15%\">\n",
    "    <tr>\n",
    "        <td>  w   </td>\n",
    "        <td> [[ 0.]\n",
    "              [ 0.]] </td>\n",
    "    </tr>\n",
    "    <tr>\n",
    "        <td>   b  </td>\n",
    "        <td> 0 </td>\n",
    "    </tr>\n",
    "</table>\n",
    "​\n",
    "Para la entrada que tenemos, w tendra la forma (num_px $\\times$ num_px $\\times$ 3, 1), es decir nuestra neurona, o  nuestra funcion de aproximacion tendra num_px $\\times$ num_px $\\times$ 3 parametros."
   ]
  },
  {
   "cell_type": "markdown",
   "id": "15a6d606",
   "metadata": {},
   "source": [
    "### Forward and Backward propagation\n",
    "\n",
    "Ahora que todos los parametros estan inicializados pordemos hacer la propagacion hacia adelante y hacia atras para el aprendizaje de los parametros.\n",
    "\n",
    "**Hints**:\n",
    "\n",
    "Primero recordar que la notacion $X^{(i)}$ se refiere al $i-esimo$ ejemplo de la imagen en su forma plana, que calculamos usando la funcion reshape.\n",
    "\n",
    "Forward Propagation:\n",
    "- Tenemos X\n",
    "- Calculamos a $A = \\sigma(w^T X^{(i)} + b) = (a^{(1)}, a^{(2)}, ..., a^{(m-1)}, a^{(m)})$\n",
    "- Calculamos la funcion de costo como: $J = -\\frac{1}{m}\\sum_{i=1}^{m}y^{(i)}\\log(a^{(i)})+(1-y^{(i)})\\log(1-a^{(i)})$\n",
    "\n",
    "Aqui hay dos formulas que usaremos: \n",
    "\n",
    "$$ \\frac{\\partial J}{\\partial b} = \\frac{1}{m} \\sum_{i=1}^m (a^{(i)}-y^{(i)})\\tag{8}$$\n",
    "\n",
    "y \n",
    "\n",
    "$$ \\frac{\\partial J}{\\partial w_{k}} = \\frac{1}{m} \\sum_{i=1}^m x_{k}^{(i)}(a^{(i)}-y^{(i)})\\tag{9}$$\n",
    "\n",
    "Fijate que estamos hablando de la componente $k-esima$ del vector de entrada $X^{(i)}$ y de los parametros $w$. Lo cual en forma matricial puede ser expresado como\n",
    "\n",
    "$$ \\frac{\\partial J}{\\partial w} = \\frac{1}{m}X(A-Y)^T\\tag{9.1}$$\n",
    "\n",
    "Numpy para sus arreglos tiene implementado lo que es conocido como el broadcasting y es ideal para el uso de vectorizacion.\n",
    "- El brodacasting no es mas que la extension que realiza numpy a efectuar operaciones entre arreglos numpy en sobre eje, siempre que el resto de los ejes (dimesiones) matchee, por ejemplo:\n",
    "\n",
    "$$\\begin{bmatrix} a_{1} \\\\ a_{2} \\\\ a_{3}  \\end{bmatrix} + [b] \\implies \\begin{bmatrix} a_{1} \\\\ a_{2} \\\\ a_{3}  \\end{bmatrix} + \\begin{bmatrix} b \\\\ b \\\\ b  \\end{bmatrix} = \\begin{bmatrix} a_{1}+b \\\\ a_{2}+b \\\\ a_{3} +b \\end{bmatrix}$$\n",
    "\n",
    "- La vectoriazacion no es mas que tratar la operacion de producto de varios elementos y su suma como una operacion de productos de matrices. Esto es fundamental para la paralelizacion de las operaciones de las cuales nnumpy se aprovecha. Por ejemplo:\n",
    "\n",
    "$$w_{1}x_{1}+w_{2}x_{2} + w_{3}x_{3} + w_{4}x_{4} = \\begin{bmatrix} w_{1} \\\\ w_{2} \\\\ w_{3}  \\end{bmatrix}^{T}*\\begin{bmatrix} x_{1} \\\\ x_{2} \\\\ x_{3}  \\end{bmatrix} = \\begin{bmatrix} w_{1}&w_{2}&w_{3}  \\end{bmatrix}\\begin{bmatrix} x_{1} \\\\ x_{2} \\\\ x_{3}  \\end{bmatrix} = w^{T}*X$$\n",
    "\n",
    "     En el caso que nos ocupa, X para cada fila contiene un ejemplo, una manera simplificado de esbozar este ejemplo, dado \n",
    "\n",
    "\n",
    "$$X = \\begin{bmatrix} x_{1}^{(1)} & x_{1}^{(2)} & x_{1}^{(3)} \\\\ x_{2}^{(1)} & x_{2}^{(2)} & x_{2}^{(3)} \\\\ x_{3}^{(1)} & x_{3}^{(1)} & x_{3}^{(1)} \\end{bmatrix}$$\n",
    "\n",
    "\n",
    "    Luego:\n",
    "\n",
    "$$w^{T}*X = \\begin{bmatrix} w_{1}&w_{2}&w_{3}  \\end{bmatrix}\\begin{bmatrix} x_{1}^{(1)} & x_{1}^{(2)} & x_{1}^{(3)} \\\\ x_{2}^{(1)} & x_{2}^{(2)} & x_{2}^{(3)} \\\\ x_{3}^{(1)} & x_{3}^{(1)} & x_{3}^{(1)} \\end{bmatrix} = \\begin{bmatrix} a^{(1)} & a^{(2)} & a^{(3)}  \\end{bmatrix}$$\n",
    "\n",
    "Por lo que seria conveniente que nuestro arrego de datos de entrada tuvieran la forma $(num_px * num_px * 3,~ numero~de~ejemplos)$ y para calcular el gradiente el vector de la etiqueta de los ejemplos tenga la forma $(1,~ numero~de~ejemplos)$"
   ]
  },
  {
   "cell_type": "markdown",
   "id": "8ba38ed5",
   "metadata": {},
   "source": [
    "**Ejercicio:** emplee la propiedad transpuesta de los arreglos numpy para que los datos de entrada de test y train tengan la forma $(num_px * num_px * 3,~ numero~de~ejemplo)$\n",
    "\n",
    "```python\n",
    "X.T # devuelve la transpuesta de la matriz T\n",
    "```\n"
   ]
  },
  {
   "cell_type": "code",
   "execution_count": 11,
   "id": "ec7b6a1a",
   "metadata": {},
   "outputs": [
    {
     "name": "stdout",
     "output_type": "stream",
     "text": [
      "train_set_x_flatten shape: (12288, 209)\n",
      "train_set_y shape: (1, 209)\n",
      "test_set_x_flatten shape: (12288, 50)\n",
      "test_set_y shape: (1, 50)\n"
     ]
    }
   ],
   "source": [
    "### PROGRAME AQUI ###\n",
    "train_set_x_flatten = train_set_x_flatten.T\n",
    "train_set_y = train_set_y.T\n",
    "test_set_x_flatten = test_set_x_flatten.T\n",
    "test_set_y = test_set_y.T\n",
    "### FIN DE SU CODIGO ###\n",
    "\n",
    "print (\"train_set_x_flatten shape: \" + str(train_set_x_flatten.shape))\n",
    "print (\"train_set_y shape: \" + str(train_set_y.shape))\n",
    "print (\"test_set_x_flatten shape: \" + str(test_set_x_flatten.shape))\n",
    "print (\"test_set_y shape: \" + str(test_set_y.shape))"
   ]
  },
  {
   "cell_type": "markdown",
   "id": "9a9fc206",
   "metadata": {},
   "source": [
    "**Salida Esperada**: \n",
    "\n",
    "<table style=\"width:35%\">\n",
    "  <tr>\n",
    "    <td>train_set_x_flatten shape</td>\n",
    "    <td> (12288, 209)</td> \n",
    "  </tr>\n",
    "  <tr>\n",
    "    <td>train_set_y shape</td>\n",
    "    <td>(1, 209)</td> \n",
    "  </tr>\n",
    "  <tr>\n",
    "    <td>test_set_x_flatten shape</td>\n",
    "    <td>(12288, 50)</td> \n",
    "  </tr>\n",
    "  <tr>\n",
    "    <td>test_set_y shape</td>\n",
    "    <td>(1, 50)</td> \n",
    "  </tr>\n",
    "</table>"
   ]
  },
  {
   "cell_type": "markdown",
   "id": "ca10770b",
   "metadata": {},
   "source": [
    "**Ejercicio:** Implemente la funcion `propagate()` que calcula la funcion de costo y sus gradientes, haciendo uso del broadcasting y la vectorizacion.\n"
   ]
  },
  {
   "cell_type": "code",
   "execution_count": 12,
   "id": "9642c2bf",
   "metadata": {},
   "outputs": [],
   "source": [
    "\n",
    "def propagate(w, b, X, Y):\n",
    "    \"\"\"\n",
    "    Implementa la funcion de costo y sus gradientes para la propagacion explicada arriba\n",
    "\n",
    "    Arguments:\n",
    "    w -- pesos de los parametros, un arreglo numpy de la forma (num_px * num_px * 3, 1)\n",
    "    b -- bias, un scalar\n",
    "    X -- conjunto de datos (num_px * num_px * 3, numero de ejemplos)\n",
    "    Y -- vector de etiquetas (conteniendo 0 si non-cat, 1 si cat) de la forma (1, numero de ejemplos)\n",
    "\n",
    "    Return:\n",
    "    cost -- el opuesto de la probabilidad log para la regresion logisitca\n",
    "    dw -- gradiente de la perdida con respecto a w, por tanto tine la misma shape de w\n",
    "    db -- gradiente de la perdida con respecto a b, por tanto tine la misma shape de b\n",
    "    \n",
    "    Tips:\n",
    "    - np.log() calcula logaritmo de escalar o arreglo numpy, np.dot() calcula el producto matricial de dos arreglos numpy\n",
    "    \"\"\"\n",
    "    \n",
    "    m = X.shape[1]\n",
    "    \n",
    "    # FORWARD PROPAGATION (FROM X TO COST)\n",
    "    ### PROGRAMA AQUI ###\n",
    "    A = sigmoid(np.dot(w.T,X) +b)                                   # compute activation\n",
    "    #cost = -(np.dot(Y, np.log(A.T)) + np.dot(1. - Y, np.log(1. - A.T)))/m\n",
    "    cost = 0\n",
    "    for i in range(m):\n",
    "        cost = cost+ (Y[0][i])*np.log(A[0][i]) + (1. - Y[0][i])*np.log(1. - A[0][i])\n",
    "\n",
    "    cost = -(cost)/m\n",
    "    # compute cost\n",
    "    ### FIN DEL CODE ###\n",
    "    \n",
    "    # BACKWARD PROPAGATION (TO FIND GRAD)\n",
    "    ### PROGRAMA AQUI ### \n",
    "    db = A - Y\n",
    "    dw = (np.dot(X,db.T))/m\n",
    "    db = np.sum(db)/m\n",
    "    ### FIN DEL CODE ###\n",
    "\n",
    "    assert(dw.shape == w.shape)\n",
    "    assert(db.dtype == float)\n",
    "    cost = np.squeeze(cost)\n",
    "    assert(cost.shape == ())\n",
    "    \n",
    "    grads = {\"dw\": dw,\n",
    "             \"db\": db}\n",
    "    \n",
    "    return grads, cost"
   ]
  },
  {
   "cell_type": "code",
   "execution_count": 13,
   "id": "5d8a589b",
   "metadata": {},
   "outputs": [
    {
     "name": "stdout",
     "output_type": "stream",
     "text": [
      "dw = [[0.99845601]\n",
      " [2.39507239]]\n",
      "db = 0.001455578136784208\n",
      "cost = 5.801545319394553\n"
     ]
    }
   ],
   "source": [
    "w, b, X, Y = np.array([[1.],[2.]]), 2., np.array([[1.,2.,-1.],[3.,4.,-3.2]]), np.array([[1,0,1]])\n",
    "grads, cost = propagate(w, b, X, Y)\n",
    "print (\"dw = \" + str(grads[\"dw\"]))\n",
    "print (\"db = \" + str(grads[\"db\"]))\n",
    "print (\"cost = \" + str(cost))"
   ]
  },
  {
   "cell_type": "markdown",
   "id": "76a66645",
   "metadata": {},
   "source": [
    "**Expected Output**:\n",
    "\n",
    "<table style=\"width:50%\">\n",
    "    <tr>\n",
    "        <td>  dw  </td>\n",
    "      <td> [[ 0.99845601]\n",
    "     [ 2.39507239]]</td>\n",
    "    </tr>\n",
    "    <tr>\n",
    "        <td>  db  </td>\n",
    "        <td> 0.00145557813678 </td>\n",
    "    </tr>\n",
    "    <tr>\n",
    "        <td>  cost </td>\n",
    "        <td> 5.801545319394553 </td>\n",
    "    </tr>\n",
    "\n",
    "</table>"
   ]
  },
  {
   "cell_type": "markdown",
   "id": "98cc9242",
   "metadata": {},
   "source": [
    "### Optimizacion\n",
    "\n",
    "- Has inicializado tus parámetros.\n",
    "- También eres capaz de calcular una función de coste y su gradiente.\n",
    "- Ahora, quieres actualizar los parámetros utilizando el descenso de gradiente.\n",
    "\n",
    "**Ejercicio:** Escriba la función de optimización. El objetivo es aprender $w$ y $b$ minimizando la función de coste $C$. Para un parámetro $\\theta$, la regla de actualización es $ \\theta = \\theta - \\alpha \\text{ } d\\theta$, donde $\\alpha$ es la tasa de aprendizaje (learning rate)."
   ]
  },
  {
   "cell_type": "code",
   "execution_count": 14,
   "id": "18897598",
   "metadata": {},
   "outputs": [],
   "source": [
    "def optimize(w, b, X, Y, num_iterations, learning_rate, print_cost = False):\n",
    "    \"\"\"\n",
    "    \n",
    "    \n",
    "    Esta función optimiza w y b ejecutando un algoritmo de descenso de gradiente\n",
    "    \n",
    "    Arguments:\n",
    "    w -- pesos, un array numpy de tamaño (num_px * num_px * 3, 1)\n",
    "    b -- bias, un escalar\n",
    "    X -- datos de forma (num_px * num_px * 3, número de ejemplos)\n",
    "    Y -- vector de etiquetas (que contiene 0 si no es gato, 1 si es gato), de forma (número de ejemplos, 1)\n",
    "    num_iterations -- número de iteraciones del bucle de optimización\n",
    "    learning_rate -- tasa de aprendizaje de la regla de actualización del descenso de gradiente\n",
    "    print_cost -- bool que en Verdadero permite imprimir la pérdida cada 100 iteraciones del algoritmo del descenso del graiente\n",
    "    \n",
    "    Return:\n",
    "    params -- diccionario que contiene los pesos w y el sesgo b\n",
    "    grads -- diccionario que contiene los gradientes de los pesos y el bias con respecto a la función de coste\n",
    "    costs -- lista de todos los costes calculados durante la optimización, que se utilizará para trazar la curva de aprendizaje.\n",
    "    \n",
    "    Consejos:\n",
    "    Básicamente necesitas escribir dos pasos e iterar a través de ellos:\n",
    "        1) Calcular el coste y el gradiente para los parámetros actuales. Use propagate().\n",
    "        2) Actualizar los parámetros utilizando la regla de descenso de gradiente para w y b.\n",
    "    \"\"\"\n",
    "    \n",
    "    costs = []\n",
    "    \n",
    "    for i in range(num_iterations):\n",
    "        \n",
    "        \n",
    "        # Calculo del Costo y el gradiente\n",
    "        ### PROGRAMA AQUI ### \n",
    "        grads, cost = propagate(w,b,X,Y)\n",
    "        ### FIN DEL CODIGO ###\n",
    "        \n",
    "        # Obten las derivadas de grads\n",
    "        dw = grads[\"dw\"]\n",
    "        db = grads[\"db\"]\n",
    "        \n",
    "        # Regla de actualizacion del descenso del gradiente\n",
    "        ### PROGRAMA AQUI ### \n",
    "        w = w - dw*learning_rate\n",
    "        b = b - db*learning_rate\n",
    "        ### FIN DEL CODIGO ###\n",
    "        \n",
    "        # guarda los costos\n",
    "        if i % 100 == 0:\n",
    "            costs.append(cost)\n",
    "        \n",
    "        # Imprimir el costo cada 100 iteraciones\n",
    "        if print_cost and i % 100 == 0:\n",
    "            print (\"Cost after iteration %i: %f\" %(i, cost))\n",
    "    \n",
    "    params = {\"w\": w,\n",
    "              \"b\": b}\n",
    "    \n",
    "    grads = {\"dw\": dw,\n",
    "             \"db\": db}\n",
    "    \n",
    "    return params, grads, costs"
   ]
  },
  {
   "cell_type": "code",
   "execution_count": 15,
   "id": "420a4632",
   "metadata": {},
   "outputs": [
    {
     "name": "stdout",
     "output_type": "stream",
     "text": [
      "w = [[0.19033591]\n",
      " [0.12259159]]\n",
      "b = 1.9253598300845747\n",
      "dw = [[0.67752042]\n",
      " [1.41625495]]\n",
      "db = 0.21919450454067657\n",
      "[[1 0 1]]\n"
     ]
    }
   ],
   "source": [
    "params, grads, costs = optimize(w, b, X, Y, num_iterations= 100, learning_rate = 0.009, print_cost = False)\n",
    "\n",
    "print (\"w = \" + str(params[\"w\"]))\n",
    "print (\"b = \" + str(params[\"b\"]))\n",
    "print (\"dw = \" + str(grads[\"dw\"]))\n",
    "print (\"db = \" + str(grads[\"db\"]))\n",
    "print (Y)"
   ]
  },
  {
   "cell_type": "markdown",
   "id": "22bdb6e9",
   "metadata": {},
   "source": [
    "**Salida Esperada**: \n",
    "\n",
    "<table >\n",
    "<tr>\n",
    "<td> w </td>\n",
    "<td>[[ 0.19033591]\n",
    "[ 0.12259159]] </td>\n",
    "</tr>\n",
    "<tr>\n",
    "<td> b </td>\n",
    "<td> 1.92535983008 </td>\n",
    "</tr>\n",
    "<tr>\n",
    "<td> dw </td>\n",
    "<td> [[ 0.67752042]\n",
    "[ 1.41625495]] </td>\n",
    "</tr>\n",
    "<tr>\n",
    "<td> **db** </td>\n",
    "<td> 0.219194504541 </td>\n",
    "</tr>\n",
    "\n",
    "</table>"
   ]
  },
  {
   "cell_type": "markdown",
   "id": "923dbb2c",
   "metadata": {},
   "source": [
    "\n",
    "**Exercise:** The previous function will output the learned w and b. We are able to use w and b to predict the labels for a dataset X. Implement the `predict()` function. There are two steps to computing predictions:\n",
    "\n",
    "1. Calculate $\\hat{Y} = A = \\sigma(w^T X + b)$\n",
    "\n",
    "2. Convert the entries of a into 0 (if activation <= 0.5) or 1 (if activation > 0.5), stores the predictions in a vector `Y_prediction`. If you wish, you can use an `if`/`else` statement in a `for` loop (though there is also a way to vectorize this). \n",
    "\n",
    "**Ejercicio:**\n",
    "\n",
    "La función anterior dará como resultado los valores aprendidos w y b. Podemos utilizar w y b para predecir las etiquetas de un conjunto de datos X. Implementa la función `predict()`.\n",
    "\n",
    "Hay dos pasos para calcular las predicciones:\n",
    "\n",
    "1. Calcular $\\hat{Y} = A = \\sigma(w^T X + b)$\n",
    "\n",
    "2. Convertir los valores de a en 0 (si la activación <= 0,5) o 1 (si la activación > 0,5). Ya que recuerda que un valor de probabilidad, almacena las predicciones en un vector `Y_predicción`. Si lo deseas, puedes utilizar una sentencia `if`/`else` en un bucle `for` (aunque también hay una forma de vectorizar esto). \n",
    "\n"
   ]
  },
  {
   "cell_type": "code",
   "execution_count": 16,
   "id": "48ec9d84",
   "metadata": {},
   "outputs": [],
   "source": [
    "def predict(w, b, X):\n",
    "    '''\n",
    "    \n",
    "    Predecir si la etiqueta es 0 o 1 utilizando los parámetros de regresión logística aprendidos (w, b)\n",
    "    \n",
    "    Arguments:\n",
    "    w -- pesos, una matriz numpy de tamaño (num_px * num_px * 3, 1)\n",
    "    b -- sesgo, un escalar\n",
    "    X -- datos de tamaño (num_px * num_px * 3, número de ejemplos)\n",
    "    \n",
    "    Returns:\n",
    "    Y_prediction -- un arreglo numpy (vector) que contiene todas las predicciones (0/1) para los ejemplos en X\n",
    "    \n",
    "    '''\n",
    "    \n",
    "    m = X.shape[1]\n",
    "    Y_prediction = np.zeros((1,m))\n",
    "    w = w.reshape(X.shape[0], 1)\n",
    "    \n",
    "    # calcular el vector \"A\" que predice las probabilidades de que haya un gato en la imagen\n",
    "    ### PROGRAMA AQUI ### \n",
    "    A= sigmoid(np.dot(w.T,X) + b )\n",
    "    ### FIN DEL CODE ###\n",
    "    \n",
    "    for i in range(A.shape[1]):\n",
    "        \n",
    "        # Convertir las probabilidades A[0,i] en predicciones reales p[0,i]\n",
    "        ### PROGRAMA AQUI ### \n",
    "        if A[0][i] >0.5:\n",
    "            Y_prediction[0][i] = 1\n",
    "        ### FIN DEL CODE ###\n",
    "    \n",
    "    assert(Y_prediction.shape == (1, m))\n",
    "    \n",
    "    return Y_prediction"
   ]
  },
  {
   "cell_type": "code",
   "execution_count": 17,
   "id": "08d4acc0",
   "metadata": {},
   "outputs": [
    {
     "name": "stdout",
     "output_type": "stream",
     "text": [
      "predictions = [[1. 1. 0.]]\n"
     ]
    }
   ],
   "source": [
    "w = np.array([[0.1124579],[0.23106775]])\n",
    "b = -0.3\n",
    "X = np.array([[1.,-1.1,-3.2],[1.2,2.,0.1]])\n",
    "print (\"predictions = \" + str(predict(w, b, X)))"
   ]
  },
  {
   "cell_type": "markdown",
   "id": "af4f2bbb",
   "metadata": {},
   "source": [
    "**Salida esperada**: \n",
    "\n",
    "<table style=\"width:30%\">\n",
    "    <tr>\n",
    "         <td>\n",
    "             predictions\n",
    "         </td>\n",
    "          <td>\n",
    "            [[ 1.  1.  0.]]\n",
    "         </td>  \n",
    "   </tr>\n",
    "\n",
    "</table>\n"
   ]
  },
  {
   "cell_type": "markdown",
   "id": "fae9e69a",
   "metadata": {},
   "source": [
    "\n",
    "### Hasta el momento que deber recordar:\n",
    "\n",
    "\n",
    "Has implementado varias funciones que:\n",
    "    \n",
    "- Inicializan (w,b)\n",
    "\n",
    "- Optimizan la pérdida iterativamente para aprender los parámetros (w,b):\n",
    "    - calcular el coste y su gradiente \n",
    "    - actualizar los parámetros mediante el descenso de gradiente\n",
    "- Utilizar los parámetros aprendidos (w,b) para predecir las etiquetas de un conjunto dado de ejemplos"
   ]
  },
  {
   "cell_type": "markdown",
   "id": "2b636122",
   "metadata": {},
   "source": [
    "## Uniendo las funcinoes en nuestro modelo ##\n",
    "\n",
    "\n",
    "Ahora verás cómo está estructurado el modelo global al juntar todos los bloques (funciones implementadas en las partes anteriores), en el orden correcto.\n",
    "\n",
    "**Ejercicio:**\n",
    "\n",
    "Implementar la función del modelo. Utilice la siguiente notación:\n",
    "- Y_prediction_test para tus predicciones en el conjunto de prueba\n",
    "- Y_prediction_train para tus predicciones en el conjunto de entrenamiento\n",
    "- w, costs, grads para las salidas de optimize()"
   ]
  },
  {
   "cell_type": "code",
   "execution_count": 19,
   "id": "36c0a6e1",
   "metadata": {},
   "outputs": [],
   "source": [
    "# GRADED FUNCTION: model\n",
    "\n",
    "def model(X_train, Y_train, X_test, Y_test, num_iterations = 2000, learning_rate = 0.5, print_cost = False):\n",
    "    \"\"\"\n",
    "    \n",
    "    Construye el modelo de regresión logística llamando a las funciónes que has implementado previamente\n",
    "    \n",
    "    Arguments:\n",
    "    X_train -- conjunto de entrenamiento representado por una matriz numpy de forma (num_px * num_px * 3, m_train)\n",
    "    Y_train -- etiquetas de entrenamiento representadas por un arreglo numpy (vector) de forma (1, m_train)\n",
    "    X_test -- conjunto de pruebas representado por un arreglo  numpy de forma (num_px * num_px * 3, m_test)\n",
    "    Y_test -- etiquetas de prueba representadas por un arreglo  numpy (vector) de forma (1, m_test)\n",
    "    num_iterations -- hiperparámetro que representa el número de iteraciones para optimizar los parámetros\n",
    "    learning_rate -- hiperparámetro que representa la tasa de aprendizaje utilizada en la regla de actualización de optimize()\n",
    "    print_cost -- Se establece en true para imprimir el coste cada 100 iteraciones\n",
    "    \n",
    "    Returns:\n",
    "    d -- diccionario que contiene información sobre el modelo.\n",
    "    \"\"\"\n",
    "    \n",
    "    ### PROGRAMA AQUI ###\n",
    "    \n",
    "    # Inicializa los parametros con 0\n",
    "    w, b = initialize_with_zeros(12288)\n",
    "    print(str(w.shape))\n",
    "    print(str(X_train.shape))\n",
    "\n",
    "    # Gradient descent \n",
    "    parameters, grads, costs = optimize(w,b,X_train,Y_train,num_iterations,learning_rate)\n",
    "    \n",
    "    # Obten los parametros w y b del diccionario \"parameters\"\n",
    "    w = parameters[\"w\"]\n",
    "    b = parameters[\"b\"]\n",
    "    \n",
    "    # Predecir ejemplos del conjunto de test/train\n",
    "    print(\"w:\" + str(w.shape))\n",
    "    Y_prediction_test = predict( w , b , X_test )\n",
    "    Y_prediction_train = predict( w , b , X_train )\n",
    "\n",
    "    ### FIN DEL CODE ###\n",
    "\n",
    "    # Imprime Error del train/test\n",
    "    print(\"train accuracy: {} %\".format(100 - np.mean(np.abs(Y_prediction_train - Y_train)) * 100))\n",
    "    print(\"test accuracy: {} %\".format(100 - np.mean(np.abs(Y_prediction_test - Y_test)) * 100))\n",
    "\n",
    "    \n",
    "    d = {\"costs\": costs,\n",
    "         \"Y_prediction_test\": Y_prediction_test, \n",
    "         \"Y_prediction_train\" : Y_prediction_train, \n",
    "         \"w\" : w, \n",
    "         \"b\" : b,\n",
    "         \"learning_rate\" : learning_rate,\n",
    "         \"num_iterations\": num_iterations}\n",
    "    \n",
    "    return d"
   ]
  },
  {
   "cell_type": "markdown",
   "id": "95883521",
   "metadata": {},
   "source": [
    "## Con la siguiente celda entrenaremos el modelo"
   ]
  },
  {
   "cell_type": "code",
   "execution_count": 20,
   "id": "edcb9414",
   "metadata": {
    "scrolled": true
   },
   "outputs": [
    {
     "name": "stdout",
     "output_type": "stream",
     "text": [
      "(12288, 1)\n",
      "(12288, 209)\n",
      "w:(12288, 1)\n",
      "train accuracy: 99.04306220095694 %\n",
      "test accuracy: 70.0 %\n"
     ]
    }
   ],
   "source": [
    "history = model(train_set_x_flatten, train_set_y, test_set_x_flatten, test_set_y, num_iterations = 2000, learning_rate = 0.005, print_cost = True)"
   ]
  },
  {
   "cell_type": "markdown",
   "id": "7a4e1473",
   "metadata": {},
   "source": [
    "**Comentario:**\n",
    "\n",
    "La precisión del entrenamiento se acerca al 100%. Esto es una buena comprobación de cordura: su modelo está funcionando y tiene suficiente capacidad para ajustarse a los datos de entrenamiento. El error de prueba es del 70%. En realidad no está mal para este sencillo modelo, dado el pequeño conjunto de datos que utilizamos y que la regresión logística es un clasificador lineal."
   ]
  },
  {
   "cell_type": "code",
   "execution_count": 21,
   "id": "92a5eaa6",
   "metadata": {},
   "outputs": [
    {
     "data": {
      "image/png": "[encoded data removed]",
      "text/plain": [
       "<Figure size 432x288 with 1 Axes>"
      ]
     },
     "metadata": {
      "needs_background": "light"
     },
     "output_type": "display_data"
    }
   ],
   "source": [
    "# Plot learning curve (with costs)\n",
    "costs = np.squeeze(history['costs'])\n",
    "plt.plot(costs)\n",
    "plt.ylabel('Costo')\n",
    "plt.xlabel('Iteraciones (x100)')\n",
    "plt.title(\"Learning rate =\" + str(history[\"learning_rate\"]))\n",
    "plt.show()"
   ]
  }
 ],
 "metadata": {
  "kernelspec": {
   "display_name": "Python 3 (ipykernel)",
   "language": "python",
   "name": "python3"
  },
  "language_info": {
   "codemirror_mode": {
    "name": "ipython",
    "version": 3
   },
   "file_extension": ".py",
   "mimetype": "text/x-python",
   "name": "python",
   "nbconvert_exporter": "python",
   "pygments_lexer": "ipython3",
   "version": "3.10.1"
  }
 },
 "nbformat": 4,
 "nbformat_minor": 5
}
